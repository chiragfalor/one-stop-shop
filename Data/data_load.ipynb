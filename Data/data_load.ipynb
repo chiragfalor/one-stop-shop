{
 "cells": [
  {
   "cell_type": "markdown",
   "metadata": {},
   "source": [
    "# Set up Notebook"
   ]
  },
  {
   "cell_type": "code",
   "execution_count": null,
   "metadata": {},
   "outputs": [],
   "source": [
    "%load_ext autoreload\n",
    "%autoreload 2"
   ]
  },
  {
   "cell_type": "code",
   "execution_count": null,
   "metadata": {},
   "outputs": [],
   "source": [
    "import numpy as np\n",
    "import pandas as pd\n",
    "import matplotlib.pyplot as plt\n",
    "import seaborn as sns"
   ]
  },
  {
   "cell_type": "code",
   "execution_count": null,
   "metadata": {},
   "outputs": [],
   "source": [
    "# All specific imports\n",
    "from sklearn.model_selection import train_test_split\n",
    "from sklearn.preprocessing import OrdinalEncoder\n",
    "from sklearn.preprocessing import StandardScaler"
   ]
  },
  {
   "cell_type": "markdown",
   "metadata": {},
   "source": [
    "# Set up data"
   ]
  },
  {
   "cell_type": "code",
   "execution_count": null,
   "metadata": {},
   "outputs": [],
   "source": [
    "TRAIN_DATA_PATH = \"sample_data/obesity_train.csv\" # <-- EDIT THIS\n",
    "TEST_DATA_PATH = \"sample_data/obesity_test.csv\" # <-- EDIT THIS\n",
    "\n",
    "index_col = \"id\" # <-- EDIT THIS, Default is None\n",
    "\n",
    "real_train_df = pd.read_csv(TRAIN_DATA_PATH, index_col=index_col)\n",
    "real_test_df = pd.read_csv(TEST_DATA_PATH, index_col=index_col)"
   ]
  },
  {
   "cell_type": "code",
   "execution_count": null,
   "metadata": {},
   "outputs": [],
   "source": [
    "train_df, test_df = train_test_split(real_train_df, test_size = 0.3, random_state=42)\n",
    "df = train_df.copy()"
   ]
  },
  {
   "cell_type": "code",
   "execution_count": null,
   "metadata": {},
   "outputs": [],
   "source": [
    "resp = \"NObeyesdad\" # <-- EDIT THIS\n",
    "preds = [col for col in df.columns if col != resp]\n",
    "preds_num = list(df[preds].select_dtypes('number').columns)\n",
    "preds_cat = [pred for pred in preds if pred not in preds_num]\n",
    "\n",
    "# Feel free to modify the preds here"
   ]
  },
  {
   "cell_type": "markdown",
   "metadata": {},
   "source": [
    "# Quick Data Pre-Analysis"
   ]
  },
  {
   "cell_type": "code",
   "execution_count": null,
   "metadata": {},
   "outputs": [],
   "source": [
    "# TODO"
   ]
  },
  {
   "cell_type": "code",
   "execution_count": null,
   "metadata": {},
   "outputs": [],
   "source": [
    "df.head(10)"
   ]
  },
  {
   "cell_type": "code",
   "execution_count": null,
   "metadata": {},
   "outputs": [],
   "source": [
    "df.info()"
   ]
  },
  {
   "cell_type": "code",
   "execution_count": null,
   "metadata": {},
   "outputs": [],
   "source": [
    "df.describe()"
   ]
  },
  {
   "cell_type": "code",
   "execution_count": null,
   "metadata": {},
   "outputs": [],
   "source": [
    "for category in preds_cat:\n",
    "    print(f\"{category: <15}: {df[category].unique()}\")"
   ]
  },
  {
   "cell_type": "markdown",
   "metadata": {},
   "source": [
    "# Encode Data"
   ]
  },
  {
   "cell_type": "code",
   "execution_count": null,
   "metadata": {},
   "outputs": [],
   "source": [
    "# NOTE: The following 2 lines are needed to make the implementation idempotent\n",
    "train_df, test_df = train_test_split(real_train_df, test_size = 0.3, random_state=42)\n",
    "df = train_df.copy()\n",
    "\n",
    "\n",
    "preds_cat_enc = OrdinalEncoder(dtype=int, \n",
    "                    handle_unknown='error', #'use_encoded_value', encoded_missing_value=-1,                   \n",
    "                   )\n",
    "resp_enc = OrdinalEncoder(dtype=int, handle_unknown='error') # <-- EDIT THIS depending on what resp is\n",
    "\n",
    "df[preds_cat] = preds_cat_enc.fit_transform(df[preds_cat])\n",
    "df[[resp]] = resp_enc.fit_transform(df[[resp]])\n",
    "\n",
    "test_df[preds_cat] = preds_cat_enc.transform(test_df[preds_cat])\n",
    "test_df[[resp]] = resp_enc.transform(test_df[[resp]])"
   ]
  },
  {
   "cell_type": "code",
   "execution_count": null,
   "metadata": {},
   "outputs": [],
   "source": [
    "preds_cat_enc.categories_"
   ]
  }
 ],
 "metadata": {
  "kernelspec": {
   "display_name": "jlab813env",
   "language": "python",
   "name": "python3"
  },
  "language_info": {
   "codemirror_mode": {
    "name": "ipython",
    "version": 3
   },
   "file_extension": ".py",
   "mimetype": "text/x-python",
   "name": "python",
   "nbconvert_exporter": "python",
   "pygments_lexer": "ipython3",
   "version": "3.11.0"
  }
 },
 "nbformat": 4,
 "nbformat_minor": 2
}
